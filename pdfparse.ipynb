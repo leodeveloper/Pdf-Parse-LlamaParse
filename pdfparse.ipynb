{
 "cells": [
  {
   "cell_type": "code",
   "execution_count": 1,
   "metadata": {},
   "outputs": [
    {
     "name": "stdout",
     "output_type": "stream",
     "text": [
      "ok\n"
     ]
    }
   ],
   "source": [
    "print('ok')"
   ]
  },
  {
   "cell_type": "code",
   "execution_count": 2,
   "metadata": {},
   "outputs": [],
   "source": [
    "import nest_asyncio\n",
    "import os\n",
    "from llama_parse import LlamaParse"
   ]
  },
  {
   "cell_type": "code",
   "execution_count": 3,
   "metadata": {},
   "outputs": [],
   "source": [
    "from dotenv import load_dotenv\n",
    "load_dotenv()\n",
    "\n",
    "## load the Groq API key\n",
    "os.environ['LLAMA_CLOUD_API_KEY']=os.getenv(\"LLAMA_CLOUD_API_KEY\")"
   ]
  },
  {
   "cell_type": "code",
   "execution_count": 6,
   "metadata": {},
   "outputs": [
    {
     "name": "stdout",
     "output_type": "stream",
     "text": [
      "Started parsing the file under job_id 332adca8-d806-435f-b75c-7f8775726e7f\n"
     ]
    }
   ],
   "source": [
    "nest_asyncio.apply()\n",
    "document = LlamaParse(result_type=\"markdown\").load_data(\"pdf/sample.pdf\")"
   ]
  },
  {
   "cell_type": "code",
   "execution_count": 7,
   "metadata": {},
   "outputs": [
    {
     "name": "stdout",
     "output_type": "stream",
     "text": [
      "[Document(id_='c60d901c-f047-41f1-bd1b-71b4515545d2', embedding=None, metadata={}, excluded_embed_metadata_keys=[], excluded_llm_metadata_keys=[], relationships={}, text='# Personal Improvement Ltd\\n\\nCV information for NCS\\n\\n|Name:|Surname:|Pawanpreet Singh|\\n|---|---|---|\\n|Date of birth:|1995-08-31| |\\n|Address:| | |\\n|Postcode:| | |\\n|Telephone:|7901091149.0| |\\n|Email:|pawansohi2@gmail.com| |\\n\\n# Work Experience:\\n\\n|Job title:|Security|\\n|---|---|\\n|Company name:|HB|\\n|Years:|from 2020 01 until 2020 04|\\n|Job title:|SO|\\n|Company name:|WRS|\\n|Years:|from 2020 04 until 2024 04|\\n|Job title:| |\\n|Company name:| |\\n|Years:|from until|\\n\\n# Education and training:\\n\\n|Course title:|Door Superviros|\\n|---|---|\\n|College or training name:|LC Edgwaew|\\n|Year of completion:|2023|\\n|Level of qualification:|Level 2|\\n|Course title:|CCTV|\\n|College or training name:|LC Greenwich|\\n|Year of completion:|2023|\\n|Level of qualification:|2|\\n|Course title:| |\\n|College or training name:| |\\n|Year of completion:| |\\n|Level of qualification:| |\\n\\nHobbies: I enjoy:\\n\\nLanguages can speak:\\n\\nDriving licence: Yes No', start_char_idx=None, end_char_idx=None, text_template='{metadata_str}\\n\\n{content}', metadata_template='{key}: {value}', metadata_seperator='\\n')]\n"
     ]
    }
   ],
   "source": [
    "print(document)"
   ]
  },
  {
   "cell_type": "code",
   "execution_count": 10,
   "metadata": {},
   "outputs": [
    {
     "name": "stdout",
     "output_type": "stream",
     "text": [
      "# Personal Improvement Ltd\n",
      "\n",
      "CV information for NCS\n",
      "\n",
      "|Name:|Surname:|Pawanpreet Singh|\n",
      "|---|---|---|\n",
      "|Date of birth:|1995-08-31| |\n",
      "|Address:| | |\n",
      "|Postcode:| | |\n",
      "|Telephone:|7901091149.0| |\n",
      "|Email:|pawansohi2@gmail.com| |\n",
      "\n",
      "# Work Experience:\n",
      "\n",
      "|Job title:|Security|\n",
      "|---|---|\n",
      "|Company name:|HB|\n",
      "|Years:|from 2020 01 until 2020 04|\n",
      "|Job title:|SO|\n",
      "|Company name:|WRS|\n",
      "|Years:|from 2020 04 until 2024 04|\n",
      "|Job title:| |\n",
      "|Company name:| |\n",
      "|Years:|from until|\n",
      "\n",
      "# Education and training:\n",
      "\n",
      "|Course title:|Door Superviros|\n",
      "|---|---|\n",
      "|College or training name:|LC Edgwaew|\n",
      "|Year of completion:|2023|\n",
      "|Level of qualification:|Level 2|\n",
      "|Course title:|CCTV|\n",
      "|College or training name:|LC Greenwich|\n",
      "|Year of completion:|2023|\n",
      "|Level of qualification:|2|\n",
      "|Course title:| |\n",
      "|College or training name:| |\n",
      "|Year of completion:| |\n",
      "|Level of qualification:| |\n",
      "\n",
      "Hobbies: I enjoy:\n",
      "\n",
      "Languages can speak:\n",
      "\n",
      "Driving licence: Yes No\n"
     ]
    }
   ],
   "source": [
    "print(document[0].text[:1000])"
   ]
  },
  {
   "cell_type": "code",
   "execution_count": 11,
   "metadata": {},
   "outputs": [],
   "source": [
    "file_name=\"pdf/sample.md\"\n",
    "with open(file_name, 'w') as file:\n",
    "    file.write(document[0].text)"
   ]
  },
  {
   "cell_type": "code",
   "execution_count": 22,
   "metadata": {},
   "outputs": [
    {
     "name": "stdout",
     "output_type": "stream",
     "text": [
      "Started parsing the file under job_id 5e989645-887c-4383-b77f-88a499eddf69\n"
     ]
    }
   ],
   "source": [
    "document_with_instruction = LlamaParse(\n",
    "    result_type=\"markdown\",\n",
    "    parsing_instruction=\"\"\"\n",
    "    work experience and Education\n",
    "    \"\"\"\n",
    ").load_data(\"pdf/sample.pdf\")"
   ]
  },
  {
   "cell_type": "code",
   "execution_count": 23,
   "metadata": {},
   "outputs": [],
   "source": [
    "file_name = \"pdf/sample_instructions.md\"\n",
    "with open(file_name, 'w') as file:\n",
    "    file.write(document_with_instruction[0].text)"
   ]
  },
  {
   "cell_type": "code",
   "execution_count": null,
   "metadata": {},
   "outputs": [],
   "source": []
  }
 ],
 "metadata": {
  "kernelspec": {
   "display_name": "Python 3",
   "language": "python",
   "name": "python3"
  },
  "language_info": {
   "codemirror_mode": {
    "name": "ipython",
    "version": 3
   },
   "file_extension": ".py",
   "mimetype": "text/x-python",
   "name": "python",
   "nbconvert_exporter": "python",
   "pygments_lexer": "ipython3",
   "version": "3.10.14"
  }
 },
 "nbformat": 4,
 "nbformat_minor": 2
}
